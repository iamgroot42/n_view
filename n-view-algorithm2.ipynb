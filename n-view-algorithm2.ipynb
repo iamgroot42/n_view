{
 "cells": [
  {
   "cell_type": "code",
   "execution_count": 1,
   "metadata": {},
   "outputs": [
    {
     "name": "stderr",
     "output_type": "stream",
     "text": [
      "Using TensorFlow backend.\n"
     ]
    }
   ],
   "source": [
    "import matplotlib\n",
    "matplotlib.use('Agg')\n",
    "import matplotlib.pyplot as plt\n",
    "\n",
    "import numpy as np\n",
    "np.random.seed(123)\n",
    "\n",
    "import random\n",
    "random.seed(123)\n",
    "\n",
    "import tensorflow as tf\n",
    "from keras.backend.tensorflow_backend import set_session\n",
    "config = tf.ConfigProto()\n",
    "config.gpu_options.per_process_gpu_memory_fraction = 0.5\n",
    "set_session(tf.Session(config=config))\n",
    "\n",
    "from keras.utils import plot_model\n",
    "from keras.models import Sequential, load_model\n",
    "from keras.layers import Dense, Activation, Flatten, BatchNormalization, Dropout, Reshape\n",
    "from keras.optimizers import Adadelta\n",
    "from keras.callbacks import TensorBoard, EarlyStopping, ModelCheckpoint\n",
    "from sklearn.preprocessing import label_binarize\n",
    "import cv2\n",
    "import pdb\n",
    "import progressbar\n",
    "import os\n",
    "from scipy import stats\n",
    "from datasets import get_dataset"
   ]
  },
  {
   "cell_type": "code",
   "execution_count": null,
   "metadata": {
    "collapsed": true
   },
   "outputs": [],
   "source": [
    "a_dset = 'tic-tac-toe'\n",
    "a_n_views = '3'\n",
    "\n",
    "ds = get_dataset(a_dset, 0.7, 0.25)\n",
    "[L_x, L_y], U, [test_x, test_y] = ds.get_data()\n",
    "n_views = a_n_views\n",
    "views = []\n",
    "\n",
    "for ind in range(n_views):\n",
    "    left = int(ind * L_x.shape[0] / n_views)\n",
    "    right = int((ind+1) * L_x.shape[0] / n_views)\n",
    "    views.append([L_x[left:right], L_y[left:right]])\n",
    "\n",
    "#for ind in range(n_views):\n",
    "#    print views[ind][0].shape, views[ind][1].shape\n",
    "\n",
    "# Define Models\n",
    "models = []\n",
    "n_attr = views[ind][0].shape[1]\n",
    "\n",
    "for ind in range(n_views):\n",
    "    model = Sequential()\n",
    "    model.add(Dense(input_shape=(n_attr,), units=n_attr / 2))\n",
    "    model.add(Activation('relu'))\n",
    "    model.add(BatchNormalization())\n",
    "    model.add(Dense(units=n_attr/5))\n",
    "    model.add(Activation('relu'))\n",
    "    model.add(BatchNormalization())\n",
    "    model.add(Dense(units=views[ind][1].shape[1]))\n",
    "    model.add(Activation('softmax'))\n",
    "    model.compile(loss='categorical_crossentropy', optimizer=Adadelta(), metrics=['accuracy'])\n",
    "    models.append(model)\n",
    "#print models[0].summary()\n",
    "\n",
    "# Train models on Labelled Data\n",
    "for ind in range(n_views):\n",
    "    models[ind].fit(views[ind][0], views[ind][1], epochs=50, batch_size = 4, validation_split = 0.2)\n",
    "              # ,callbacks=[EarlyStopping(monitor='val_acc', patience=5)])\n",
    "    #print model.evaluate(test_x,test_y)\n",
    "\n",
    "# Run Co-Training Algorithm 1\n",
    "# Simple majority voting over all the classifiers for the unlabelled example\n",
    "L = views[0]\n",
    "for ind in range(1, n_views):\n",
    "    L[0] = np.concatenate([L[0], views[ind][0]], axis = 0)\n",
    "    L[1] = np.concatenate([L[1], views[ind][1]], axis = 0)\n",
    "changed = True\n",
    "pred_modes = []\n",
    "preds = np.zeros((U.shape[0], n_views))\n",
    "for ind in range(n_views):\n",
    "    preds[:, ind] = np.argmax(models[ind].predict(U), axis = 1)"
   ]
  },
  {
   "cell_type": "code",
   "execution_count": 3,
   "metadata": {},
   "outputs": [],
   "source": [
    "to_plot = []\n",
    "#     perfs = []\n",
    "#     for ind in range(n_views):\n",
    "#         perf = model.evaluate(test_x,test_y)\n",
    "#         perfs.append(perf)\n",
    "#     to_plot.append(perfs)\n",
    "to_plot = [[1, 2, 3], [2, 2, 3], [3, 3, 3]]\n",
    "handles = []\n",
    "labels = []\n",
    "for ind in range(3):\n",
    "    ys = [x[ind] for x in to_plot]\n",
    "    handle, = plt.plot(range(len(to_plot)), ys, marker='o', label = str(ind))\n",
    "    handles.append(handle)\n",
    "    labels.append('Classifier %d' % ind)\n",
    "plt.legend(handles, labels)\n",
    "plt.savefig('fig/%s_%d.png' % (\"xinga\", 1))\n",
    "# plt.show()"
   ]
  }
 ],
 "metadata": {
  "kernelspec": {
   "display_name": "Python 2",
   "language": "python",
   "name": "python2"
  },
  "language_info": {
   "codemirror_mode": {
    "name": "ipython",
    "version": 2
   },
   "file_extension": ".py",
   "mimetype": "text/x-python",
   "name": "python",
   "nbconvert_exporter": "python",
   "pygments_lexer": "ipython2",
   "version": "2.7.6"
  }
 },
 "nbformat": 4,
 "nbformat_minor": 2
}
